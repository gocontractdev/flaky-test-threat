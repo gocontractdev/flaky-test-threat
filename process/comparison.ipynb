{
 "cells": [
  {
   "cell_type": "markdown",
   "metadata": {},
   "source": [
    "## Assignment 3\n",
    "\n",
    "> This is part of the course Mining Software Repositroies\n",
    ">\n",
    "> 👩‍💻 by: Amir Reza Javaher Dashti (javaher@uni-koblenz.de)\n",
    ">"
   ]
  },
  {
   "cell_type": "markdown",
   "metadata": {},
   "source": [
    "The goal of assignment 3 is to callout and address a threat to validity. In previous parts of this work we have seen the threat and general suggestion of how to address it. Here, we will go through hypothesis formation step-by-step, then apply statistical calculations, and borrow tools from Data Science to prove our points:\n"
   ]
  },
  {
   "cell_type": "markdown",
   "metadata": {},
   "source": [
    "### Part 1: Hypothesis"
   ]
  },
  {
   "cell_type": "markdown",
   "metadata": {},
   "source": [
    "#### Our hypothesis based on information we have about the paper is as follows:\n",
    "\n",
    "\n",
    "H0: Executing tests more than 100 times will not result in finding significantly more flaky tests.\n",
    "\n",
    "Ha: Alternative Hypothesis claims 100 is not close to ideal and there is possible to find an optimal re-run threshold that results in finding signfincantly more flaky tests.\n",
    "\n",
    "\n",
    "----\n",
    "Assumed CI= 99%, \n",
    "\n",
    "n = 571\n",
    "\n",
    "\n",
    "Total number of tests used in this study is : 56980. This is our population size.\n",
    "\n",
    "If we assume reaching Confidence Interval close to ± 99% is possible having roughly 571 (1%)  would be enough."
   ]
  },
  {
   "cell_type": "markdown",
   "metadata": {},
   "source": [
    "### Part 2: Underlaying Statistical Model"
   ]
  },
  {
   "cell_type": "markdown",
   "metadata": {},
   "source": [
    "A) Corrected Threshold:"
   ]
  },
  {
   "cell_type": "markdown",
   "metadata": {},
   "source": [
    "Three-sigma rule of thumb is an empirically heuristic that calims it is practically impossible to have random sample from a normal distribution that has a distance of more than 3 times standard deviation from population mean (average) [1]. In simple words, since we know our population (which is the count of re-runs until falky behavior is observed), we can calculate mean and sigma and hence calculate the threshold of values which is mean + 3 * sigma.\n",
    "\n",
    "This is of course not caliming that our statistical threshold is a global optimum rather we are trying to show you that the chosen number of 100 re-runs might be invalid (we will see in testing section).\n",
    "\n",
    "\n",
    "![title](./../doc/3sigma.png)\n",
    "\n",
    "\n",
    "[1] reference: https://encyclopediaofmath.org/wiki/Three-sigma_rule\n"
   ]
  },
  {
   "cell_type": "markdown",
   "metadata": {},
   "source": [
    "B) Calculate Threshold:"
   ]
  },
  {
   "cell_type": "code",
   "execution_count": 1,
   "metadata": {
    "pycharm": {
     "is_executing": true
    }
   },
   "outputs": [
    {
     "data": {
      "text/html": [
       "<div>\n",
       "<style scoped>\n",
       "    .dataframe tbody tr th:only-of-type {\n",
       "        vertical-align: middle;\n",
       "    }\n",
       "\n",
       "    .dataframe tbody tr th {\n",
       "        vertical-align: top;\n",
       "    }\n",
       "\n",
       "    .dataframe thead th {\n",
       "        text-align: right;\n",
       "    }\n",
       "</style>\n",
       "<table border=\"1\" class=\"dataframe\">\n",
       "  <thead>\n",
       "    <tr style=\"text-align: right;\">\n",
       "      <th></th>\n",
       "      <th>dir</th>\n",
       "      <th>test</th>\n",
       "      <th>first_result</th>\n",
       "      <th>frequency</th>\n",
       "      <th>flaky</th>\n",
       "    </tr>\n",
       "  </thead>\n",
       "  <tbody>\n",
       "    <tr>\n",
       "      <th>353</th>\n",
       "      <td>alluxio.client.cli.fs.JobServiceFaultTolerance...</td>\n",
       "      <td>distributedMv</td>\n",
       "      <td>pass</td>\n",
       "      <td>12</td>\n",
       "      <td>True</td>\n",
       "    </tr>\n",
       "    <tr>\n",
       "      <th>359</th>\n",
       "      <td>alluxio.client.cli.JournalToolTest</td>\n",
       "      <td>dumpHeapCheckpointFromEmbeddedJournal</td>\n",
       "      <td>fail</td>\n",
       "      <td>2</td>\n",
       "      <td>True</td>\n",
       "    </tr>\n",
       "    <tr>\n",
       "      <th>599</th>\n",
       "      <td>alluxio.client.fs.FreeAndDeleteIntegrationTest</td>\n",
       "      <td>deleteDir</td>\n",
       "      <td>pass</td>\n",
       "      <td>12</td>\n",
       "      <td>True</td>\n",
       "    </tr>\n",
       "    <tr>\n",
       "      <th>927</th>\n",
       "      <td>alluxio.server.ft.journal.JournalBackupIntegra...</td>\n",
       "      <td>backupDelegationProtocol</td>\n",
       "      <td>pass</td>\n",
       "      <td>2</td>\n",
       "      <td>True</td>\n",
       "    </tr>\n",
       "    <tr>\n",
       "      <th>932</th>\n",
       "      <td>alluxio.server.ft.journal.JournalBackupIntegra...</td>\n",
       "      <td>backupRestoreZk</td>\n",
       "      <td>error</td>\n",
       "      <td>2</td>\n",
       "      <td>True</td>\n",
       "    </tr>\n",
       "    <tr>\n",
       "      <th>933</th>\n",
       "      <td>alluxio.server.ft.journal.JournalBackupIntegra...</td>\n",
       "      <td>backupRestoreEmbedded</td>\n",
       "      <td>error</td>\n",
       "      <td>2</td>\n",
       "      <td>True</td>\n",
       "    </tr>\n",
       "    <tr>\n",
       "      <th>947</th>\n",
       "      <td>alluxio.server.ft.journal.raft.EmbeddedJournal...</td>\n",
       "      <td>restartStress</td>\n",
       "      <td>error</td>\n",
       "      <td>2</td>\n",
       "      <td>True</td>\n",
       "    </tr>\n",
       "    <tr>\n",
       "      <th>948</th>\n",
       "      <td>alluxio.server.ft.journal.raft.EmbeddedJournal...</td>\n",
       "      <td>growCluster</td>\n",
       "      <td>error</td>\n",
       "      <td>2</td>\n",
       "      <td>True</td>\n",
       "    </tr>\n",
       "    <tr>\n",
       "      <th>949</th>\n",
       "      <td>alluxio.server.ft.journal.raft.EmbeddedJournal...</td>\n",
       "      <td>failover</td>\n",
       "      <td>error</td>\n",
       "      <td>2</td>\n",
       "      <td>True</td>\n",
       "    </tr>\n",
       "    <tr>\n",
       "      <th>950</th>\n",
       "      <td>alluxio.server.ft.journal.raft.EmbeddedJournal...</td>\n",
       "      <td>restart</td>\n",
       "      <td>error</td>\n",
       "      <td>2</td>\n",
       "      <td>True</td>\n",
       "    </tr>\n",
       "  </tbody>\n",
       "</table>\n",
       "</div>"
      ],
      "text/plain": [
       "                                                   dir  \\\n",
       "353  alluxio.client.cli.fs.JobServiceFaultTolerance...   \n",
       "359                 alluxio.client.cli.JournalToolTest   \n",
       "599     alluxio.client.fs.FreeAndDeleteIntegrationTest   \n",
       "927  alluxio.server.ft.journal.JournalBackupIntegra...   \n",
       "932  alluxio.server.ft.journal.JournalBackupIntegra...   \n",
       "933  alluxio.server.ft.journal.JournalBackupIntegra...   \n",
       "947  alluxio.server.ft.journal.raft.EmbeddedJournal...   \n",
       "948  alluxio.server.ft.journal.raft.EmbeddedJournal...   \n",
       "949  alluxio.server.ft.journal.raft.EmbeddedJournal...   \n",
       "950  alluxio.server.ft.journal.raft.EmbeddedJournal...   \n",
       "\n",
       "                                      test first_result  frequency  flaky  \n",
       "353                          distributedMv         pass         12   True  \n",
       "359  dumpHeapCheckpointFromEmbeddedJournal         fail          2   True  \n",
       "599                              deleteDir         pass         12   True  \n",
       "927               backupDelegationProtocol         pass          2   True  \n",
       "932                        backupRestoreZk        error          2   True  \n",
       "933                  backupRestoreEmbedded        error          2   True  \n",
       "947                          restartStress        error          2   True  \n",
       "948                            growCluster        error          2   True  \n",
       "949                               failover        error          2   True  \n",
       "950                                restart        error          2   True  "
      ]
     },
     "execution_count": 1,
     "metadata": {},
     "output_type": "execute_result"
    }
   ],
   "source": [
    "import pandas as pd\n",
    "import statistics\n",
    "import math\n",
    "import matplotlib.pyplot as plt\n",
    "from matplotlib import pyplot as mp\n",
    "import scipy.stats as stats\n",
    "import numpy as np\n",
    "\n",
    "all_reruns = pd.read_csv('./../data/input/ez_mode/' + 'all_reruns.csv')\n",
    "\n",
    "# choose flaky test cases only\n",
    "flaky_tests = all_reruns[all_reruns['flaky'] == True]\n",
    "\n",
    "flaky_tests.head(10)"
   ]
  },
  {
   "cell_type": "code",
   "execution_count": 2,
   "metadata": {
    "pycharm": {
     "is_executing": true
    }
   },
   "outputs": [
    {
     "name": "stdout",
     "output_type": "stream",
     "text": [
      "Mean:  42.174418604651166\n",
      "Standard Deviation:  40.31567063910241\n",
      "Corrected threshold for re-runs:  163\n"
     ]
    }
   ],
   "source": [
    "# Calculate Population Mean and Standard Deviation:\n",
    "\n",
    "\n",
    "mean = statistics.mean(flaky_tests['frequency'])\n",
    "variance = statistics.pvariance(flaky_tests['frequency'])\n",
    "sigma = math.sqrt(variance)\n",
    "\n",
    "# find the max re-execution threshold with assumption of normal distribution:\n",
    "threshold = round(mean + 3 * sigma)\n",
    "\n",
    "\n",
    "print('Mean: ', mean)\n",
    "print('Standard Deviation: ', sigma)\n",
    "print('Corrected threshold for re-runs: ', threshold)"
   ]
  },
  {
   "cell_type": "markdown",
   "metadata": {},
   "source": [
    "Emprically speaking, with the assumption that the test falkiness follow a Normal Distribution, we conclude that since it is highly unlikely to see a flaky behavior after ± 163 reruns. As a result, this would be our new max threshold. We will now need a sample to see if we run them up to 163 times can they be significantly different from the population recorded using 100 test re-runs."
   ]
  },
  {
   "cell_type": "markdown",
   "metadata": {},
   "source": [
    "C) Flaky Sample Distribution:"
   ]
  },
  {
   "cell_type": "code",
   "execution_count": 3,
   "metadata": {
    "pycharm": {
     "is_executing": true
    }
   },
   "outputs": [
    {
     "data": {
      "text/plain": [
       "[<matplotlib.lines.Line2D at 0x13275f2b0>]"
      ]
     },
     "execution_count": 3,
     "metadata": {},
     "output_type": "execute_result"
    },
    {
     "data": {
      "image/png": "[encoded data removed]",
      "text/plain": [
       "<Figure size 432x288 with 1 Axes>"
      ]
     },
     "metadata": {
      "needs_background": "light"
     },
     "output_type": "display_data"
    }
   ],
   "source": [
    "# draw distribution\n",
    "\n",
    "histogram_data = list(flaky_tests['frequency'])\n",
    "histogram_data.sort()\n",
    "pdf = stats.norm.pdf(histogram_data, mean, sigma)\n",
    "plt.plot(histogram_data, pdf)\n",
    "\n",
    "# Plot with original data:"
   ]
  },
  {
   "cell_type": "markdown",
   "metadata": {},
   "source": [
    "The distribution of our population memebers, as we guessed, is very close distribution of a Guassian Distribution. This confirms the general idea we had about changing the threshold. In the next part we will test and try to nullify the hypothesis formed on top of that."
   ]
  },
  {
   "cell_type": "code",
   "execution_count": 4,
   "metadata": {
    "pycharm": {
     "is_executing": true
    }
   },
   "outputs": [
    {
     "data": {
      "image/png": "[encoded data removed]",
      "text/plain": [
       "<Figure size 432x288 with 1 Axes>"
      ]
     },
     "metadata": {
      "needs_background": "light"
     },
     "output_type": "display_data"
    }
   ],
   "source": [
    "x = np.linspace(mean - 3 * sigma, mean + 3 * sigma, 1000)\n",
    "plt.plot(x, stats.norm.pdf(x, mean, sigma))\n",
    "plt.show()\n",
    "\n",
    "# Plotting ideal distribution based on Mean and Standard Deviation"
   ]
  },
  {
   "cell_type": "markdown",
   "metadata": {},
   "source": [
    "### Part 3: Testing Hypothesis (Nullifying)"
   ]
  },
  {
   "cell_type": "markdown",
   "metadata": {},
   "source": [
    "We would like to know if flaky behavior ,as claimed in the paper's threats to validity, can be significantly changed if we use a better threshold for re-running a test. The idea is to run a test multiple times in order to see if it switches behavior (a passing test suddenly changes without change of environment, inputs and code or a failing test suddenly passes in the same way). So far, I have suggested that we use threshold of the distribution ( mean + 3 sgima) as the max re-execuations.\n",
    "\n",
    "This means we try re-executing each test up-to this number. As soon as we observe flakiness it is tagged as flaky and we collect the number. If we never could observe flakiness up-to our new threshold we assume (just like original work) that this is a non-flaky test case.\n",
    "\n",
    "\n",
    "In assigment 2, I have provided base docker file and cloning capacity of all tests. Unfortunately, becasue it is too deep in Java classes and SDK I had to do it manually. Following part uses this sampling. Samples are selected randomly by ./process/generator.py:"
   ]
  },
  {
   "cell_type": "code",
   "execution_count": 5,
   "metadata": {
    "pycharm": {
     "is_executing": true
    }
   },
   "outputs": [
    {
     "data": {
      "text/html": [
       "<div>\n",
       "<style scoped>\n",
       "    .dataframe tbody tr th:only-of-type {\n",
       "        vertical-align: middle;\n",
       "    }\n",
       "\n",
       "    .dataframe tbody tr th {\n",
       "        vertical-align: top;\n",
       "    }\n",
       "\n",
       "    .dataframe thead th {\n",
       "        text-align: right;\n",
       "    }\n",
       "</style>\n",
       "<table border=\"1\" class=\"dataframe\">\n",
       "  <thead>\n",
       "    <tr style=\"text-align: right;\">\n",
       "      <th></th>\n",
       "      <th>dir</th>\n",
       "      <th>test</th>\n",
       "      <th>first_result</th>\n",
       "      <th>frequency</th>\n",
       "      <th>flaky</th>\n",
       "      <th>sample_run</th>\n",
       "    </tr>\n",
       "  </thead>\n",
       "  <tbody>\n",
       "    <tr>\n",
       "      <th>4</th>\n",
       "      <td>org.apache.hadoop.log.TestLogThrottlingHelper</td>\n",
       "      <td>testNamedLoggersWithoutSpecifiedPrimary</td>\n",
       "      <td>pass</td>\n",
       "      <td>100</td>\n",
       "      <td>True</td>\n",
       "      <td>114</td>\n",
       "    </tr>\n",
       "    <tr>\n",
       "      <th>7</th>\n",
       "      <td>org.apache.hadoop.security.token.delegation.we...</td>\n",
       "      <td>testAuthenticate</td>\n",
       "      <td>pass</td>\n",
       "      <td>100</td>\n",
       "      <td>True</td>\n",
       "      <td>151</td>\n",
       "    </tr>\n",
       "    <tr>\n",
       "      <th>22</th>\n",
       "      <td>org.apache.jackrabbit.oak.security.user.query....</td>\n",
       "      <td>testRowToUserSubTree</td>\n",
       "      <td>pass</td>\n",
       "      <td>100</td>\n",
       "      <td>True</td>\n",
       "      <td>109</td>\n",
       "    </tr>\n",
       "    <tr>\n",
       "      <th>23</th>\n",
       "      <td>org.apache.hc.core5.http2.impl.io.TestFrameInO...</td>\n",
       "      <td>testReadEmptyFrame</td>\n",
       "      <td>pass</td>\n",
       "      <td>100</td>\n",
       "      <td>True</td>\n",
       "      <td>126</td>\n",
       "    </tr>\n",
       "    <tr>\n",
       "      <th>24</th>\n",
       "      <td>org.apache.jackrabbit.oak.security.user.UserIm...</td>\n",
       "      <td>testHandleDisabledMvPropertyDef</td>\n",
       "      <td>pass</td>\n",
       "      <td>100</td>\n",
       "      <td>True</td>\n",
       "      <td>131</td>\n",
       "    </tr>\n",
       "    <tr>\n",
       "      <th>25</th>\n",
       "      <td>org.springframework.boot.autoconfigure.thymele...</td>\n",
       "      <td>useJava8TimeDialect</td>\n",
       "      <td>pass</td>\n",
       "      <td>100</td>\n",
       "      <td>True</td>\n",
       "      <td>77</td>\n",
       "    </tr>\n",
       "    <tr>\n",
       "      <th>30</th>\n",
       "      <td>org.apache.jackrabbit.oak.plugins.document.bun...</td>\n",
       "      <td>exactName</td>\n",
       "      <td>pass</td>\n",
       "      <td>100</td>\n",
       "      <td>True</td>\n",
       "      <td>161</td>\n",
       "    </tr>\n",
       "    <tr>\n",
       "      <th>33</th>\n",
       "      <td>org.apache.oozie.fluentjob.api.dag.TestDecisio...</td>\n",
       "      <td>testAddParentWhenSomeAlreadyExist</td>\n",
       "      <td>pass</td>\n",
       "      <td>100</td>\n",
       "      <td>True</td>\n",
       "      <td>12</td>\n",
       "    </tr>\n",
       "    <tr>\n",
       "      <th>62</th>\n",
       "      <td>org.springframework.boot.actuate.metrics.cache...</td>\n",
       "      <td>ehCache2CacheProvider</td>\n",
       "      <td>pass</td>\n",
       "      <td>100</td>\n",
       "      <td>True</td>\n",
       "      <td>63</td>\n",
       "    </tr>\n",
       "    <tr>\n",
       "      <th>66</th>\n",
       "      <td>ro.isdc.wro.model.resource.locator.TestUrlUriL...</td>\n",
       "      <td>testValidUrl</td>\n",
       "      <td>pass</td>\n",
       "      <td>100</td>\n",
       "      <td>True</td>\n",
       "      <td>121</td>\n",
       "    </tr>\n",
       "  </tbody>\n",
       "</table>\n",
       "</div>"
      ],
      "text/plain": [
       "                                                  dir  \\\n",
       "4       org.apache.hadoop.log.TestLogThrottlingHelper   \n",
       "7   org.apache.hadoop.security.token.delegation.we...   \n",
       "22  org.apache.jackrabbit.oak.security.user.query....   \n",
       "23  org.apache.hc.core5.http2.impl.io.TestFrameInO...   \n",
       "24  org.apache.jackrabbit.oak.security.user.UserIm...   \n",
       "25  org.springframework.boot.autoconfigure.thymele...   \n",
       "30  org.apache.jackrabbit.oak.plugins.document.bun...   \n",
       "33  org.apache.oozie.fluentjob.api.dag.TestDecisio...   \n",
       "62  org.springframework.boot.actuate.metrics.cache...   \n",
       "66  ro.isdc.wro.model.resource.locator.TestUrlUriL...   \n",
       "\n",
       "                                       test first_result  frequency  flaky  \\\n",
       "4   testNamedLoggersWithoutSpecifiedPrimary         pass        100   True   \n",
       "7                          testAuthenticate         pass        100   True   \n",
       "22                     testRowToUserSubTree         pass        100   True   \n",
       "23                       testReadEmptyFrame         pass        100   True   \n",
       "24          testHandleDisabledMvPropertyDef         pass        100   True   \n",
       "25                      useJava8TimeDialect         pass        100   True   \n",
       "30                                exactName         pass        100   True   \n",
       "33        testAddParentWhenSomeAlreadyExist         pass        100   True   \n",
       "62                    ehCache2CacheProvider         pass        100   True   \n",
       "66                             testValidUrl         pass        100   True   \n",
       "\n",
       "    sample_run  \n",
       "4          114  \n",
       "7          151  \n",
       "22         109  \n",
       "23         126  \n",
       "24         131  \n",
       "25          77  \n",
       "30         161  \n",
       "33          12  \n",
       "62          63  \n",
       "66         121  "
      ]
     },
     "execution_count": 5,
     "metadata": {},
     "output_type": "execute_result"
    }
   ],
   "source": [
    "sample_reruns = pd.read_csv('./../data/input/ez_mode/' + 'sample_runs.csv')\n",
    "\n",
    "# correct the sample only for flaky samples\n",
    "sample_tests = sample_reruns[sample_reruns['flaky']]\n",
    "\n",
    "\n",
    "sample_tests.head(10)"
   ]
  },
  {
   "cell_type": "code",
   "execution_count": 9,
   "metadata": {
    "pycharm": {
     "is_executing": true
    }
   },
   "outputs": [
    {
     "name": "stdout",
     "output_type": "stream",
     "text": [
      "Z-Score of our samples:  0.2879693443906122\n",
      "110.44680851063829\n",
      "42.318568496500085\n",
      "Max Confidence Interval Given the Z:  0.61 %\n"
     ]
    }
   ],
   "source": [
    "# We calculate Z-score to compare it with the P of our Confidence Interval\n",
    "\n",
    "sample_mean = statistics.mean(sample_tests['sample_run'])\n",
    "sample_sigma = math.sqrt(statistics.variance(sample_tests['sample_run']))\n",
    "\n",
    "z = ( sample_mean - mean ) / (sigma * sigma/ math.sqrt(len(sample_tests)))\n",
    "\n",
    "print('Z-Score of our samples: ', z)\n",
    "\n",
    "print (sample_mean)\n",
    "print (sample_sigma)\n",
    "possible_ci_for_z = stats.norm.cdf(z)\n",
    "\n",
    "print('Max Confidence Interval Given the Z: ', round(possible_ci_for_z, 2), '%')"
   ]
  },
  {
   "cell_type": "code",
   "execution_count": 7,
   "metadata": {
    "pycharm": {
     "is_executing": true
    }
   },
   "outputs": [
    {
     "data": {
      "image/png": "[encoded data removed]",
      "text/plain": [
       "<Figure size 432x288 with 1 Axes>"
      ]
     },
     "metadata": {
      "needs_background": "light"
     },
     "output_type": "display_data"
    }
   ],
   "source": [
    "x = np.linspace(mean - 3 * sigma, mean + 3 * sigma, 1000)\n",
    "mp.plot(x, stats.norm.pdf(x, mean, sigma))\n",
    "y = np.linspace(sample_mean - 3 * sample_sigma, sample_mean + 3 * sample_sigma, 100)\n",
    "mp.plot(y, stats.norm.pdf(y, sample_mean, sample_sigma))\n",
    "\n",
    "mp.show()\n",
    "\n",
    "\n",
    "# here we compare the population distribution VS sample distribution:"
   ]
  },
  {
   "cell_type": "code",
   "execution_count": 8,
   "metadata": {
    "pycharm": {
     "is_executing": true
    }
   },
   "outputs": [
    {
     "data": {
      "image/png": "[encoded data removed]",
      "text/plain": [
       "<Figure size 432x288 with 1 Axes>"
      ]
     },
     "metadata": {
      "needs_background": "light"
     },
     "output_type": "display_data"
    }
   ],
   "source": [
    "def draw_z_score(x, cond, mu, sigma, title):\n",
    "    y = stats.norm.pdf(x, mu, sigma)\n",
    "    z = x[cond]\n",
    "    plt.plot(x, y)\n",
    "    plt.fill_between(z, 0, stats.norm.pdf(z, mu, sigma))\n",
    "    plt.title(title)\n",
    "    plt.show()\n",
    "    \n",
    "\n",
    "x = np.arange(-3,3,0.001)\n",
    "z0 = z\n",
    "draw_z_score(x, x > z0, 0, 1, 'Probability of samples bigger than z')"
   ]
  },
  {
   "cell_type": "markdown",
   "metadata": {},
   "source": [
    "### Summary:"
   ]
  },
  {
   "cell_type": "markdown",
   "metadata": {},
   "source": [
    "This was an statistical investigation about the threat to validity in the paper's initial flaky sampling criteria. We have formed a hypothesis claiming that based on the exiting data it seems very unlikely that the 100 re-executions is a good detector of flaky behavior. With assumption of a Gaussian distribution, next we have introduced a new threshold. Using this new threshold we did a new sampling. After running the tests we have compared these 2 distributions and calculated the Z-score.\n",
    "\n",
    "\n",
    "Unfortunately, we can not say with 99% confidence that our sampling results in significant deviation from original population however with the known value of z we have re-estimated the confidence interval. \n",
    "\n",
    "\n",
    "The calculated value of \"Max Confidence Interval Given the Z\" shows that we are only 61% sure that the null hypothesis is wrong and the threat to validity exists. This is the end of my investigations, we can improve this work by adding re-shuffled sampling and heavier testing or using a more descriptive gaussian model (than the normal one which I have used for simplicity)."
   ]
  }
 ],
 "metadata": {
  "kernelspec": {
   "display_name": "Python 3",
   "language": "python",
   "name": "python3"
  },
  "language_info": {
   "codemirror_mode": {
    "name": "ipython",
    "version": 3
   },
   "file_extension": ".py",
   "mimetype": "text/x-python",
   "name": "python",
   "nbconvert_exporter": "python",
   "pygments_lexer": "ipython3",
   "version": "3.8.5"
  }
 },
 "nbformat": 4,
 "nbformat_minor": 1
}